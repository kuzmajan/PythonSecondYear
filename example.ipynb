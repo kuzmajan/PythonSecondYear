{
 "cells": [
  {
   "cell_type": "markdown",
   "metadata": {},
   "source": [
    "# Skryptowy Python # Ćwiczenie"
   ]
  },
  {
   "cell_type": "markdown",
   "metadata": {
    "id": "Sg96JQPMwHQi"
   },
   "source": [
    "### Przekazywanie argumentów funkcji # Ćwiczenie\n",
    "\n",
    "W Pythonie, funkcje definiuje się za pomocą słowa kluczowego def, a następnie przekazuje się do nich argumenty w nawiasach.\n",
    "\n",
    "\n"
   ]
  },
  {
   "cell_type": "code",
   "execution_count": 6,
   "metadata": {
    "id": "1X4XUabNwg4I"
   },
   "outputs": [
    {
     "name": "stdout",
     "output_type": "stream",
     "text": [
      "3\n"
     ]
    }
   ],
   "source": [
    "# Ćwiczenie\n",
    "def moja_funkcja(parametr1, parametr2):\n",
    "    print(parametr1 * (parametr2 + 1) )\n",
    "\n",
    "moja_funkcja(1,2)\n"
   ]
  },
  {
   "cell_type": "markdown",
   "metadata": {
    "id": "QeCvoY_OwnvW"
   },
   "source": [
    "**Przekazywanie argumentów pozycyjnych**\n",
    "\n",
    "Argumenty przekazuje się do funkcji w kolejności, w jakiej zostały zdefiniowane."
   ]
  },
  {
   "cell_type": "code",
   "execution_count": 8,
   "metadata": {
    "id": "1X4XUabNwg4I"
   },
   "outputs": [
    {
     "name": "stdout",
     "output_type": "stream",
     "text": ["Witam"]
    }
   ],
   "source": [
    "def moja_funkcja(parametr1, parametr2):\n",
    "    print(parametr1 * (parametr2 + 1) )\n"
   ]
  }
 ],
 "metadata": {
  "kernelspec": {
   "display_name": "Python 3",
   "language": "python",
   "name": "python3"
  },
  "language_info": {
   "codemirror_mode": {
    "name": "ipython",
    "version": 3
   },
   "file_extension": ".py",
   "mimetype": "text/x-python",
   "name": "python",
   "nbconvert_exporter": "python",
   "pygments_lexer": "ipython3",
   "version": "3.9.13"
  }
 },
 "nbformat": 4,
 "nbformat_minor": 2
}
